{
 "cells": [
  {
   "cell_type": "markdown",
   "id": "763b2b95-6223-433f-84f6-2fb02530c9a0",
   "metadata": {},
   "source": [
    "Créer une application de calculatrice capable d’effectuer des opérations arithmétiques de base.\n",
    "\n",
    " \n",
    "\n",
    "Description: \n",
    "\n",
    "Cet exercice consiste à créer une application de calculatrice simple à l’aide de Python. L’application doit être capable d’effectuer des opérations d’addition, de soustraction, de multiplication et de division. Elle demandera à l’utilisateur d’entrer deux nombres et un opérateur arithmétique, puis effectuera l’opération correspondante sur les nombres et renverra le résultat.\n",
    "\n",
    "Exemple :\n",
    "\n",
    "Entrée :\n",
    "\n",
    "Entrez le premier nombre : 10\n",
    "\n",
    "Entrez le deuxième nombre : 5\n",
    "\n",
    "Entrez l’opérateur (+, -, *, /) : *\n",
    "\n",
    "Sortie:\n",
    "\n",
    "Le résultat est : 50\n",
    "\n",
    "\n",
    "Instructions\n",
    "\n",
    "Ouvrez un nouveau fichier Python dans votre éditeur de code préféré.\n",
    "Définissez une fonction appelée « calculatrice » qui prend deux arguments, « num1 » et « num2 ».\n",
    "Au sein de la fonction, demandez à l’utilisateur d’entrer un opérateur (+, -, *, /).\n",
    "Utilisez des instructions conditionnelles pour déterminer l’opération à effectuer en fonction de la saisie de l’utilisateur.\n",
    "Retournez le résultat de l’opération.\n",
    "Appeler la fonction calculatrice avec deux nombres et imprimer le résultat.\n",
    "Gérer les cas où l’utilisateur entre des opérateurs non valides ou essaie de diviser par zéro.\n",
    "Note: \n",
    "\n",
    "Vous pouvez utiliser une boucle « while » pour permettre à l’utilisateur de lancer les dés plusieurs fois, ou ajouter des messages pour rendre le programme plus convivial.\n",
    "\n",
    "La fonction calculatrice est une fonction qui permet à l’utilisateur d’effectuer des opérations de calcul."
   ]
  },
  {
   "cell_type": "markdown",
   "id": "11c06d62-d28e-44b5-be7c-dfa5cd928fcb",
   "metadata": {},
   "source": [
    "reponse 1"
   ]
  },
  {
   "cell_type": "code",
   "execution_count": null,
   "id": "f0ce4680-a7f9-46e3-b92e-90b1270c1aca",
   "metadata": {},
   "outputs": [
    {
     "name": "stdout",
     "output_type": "stream",
     "text": [
      "___________MENU_CALCULATRICE____________\n",
      "1. Addition\n",
      "2. Soustraction\n",
      "3. Multiplication\n",
      "4. Division\n",
      "5. Quitter\n"
     ]
    },
    {
     "name": "stdin",
     "output_type": "stream",
     "text": [
      "Quelle option voullez vous?:  1\n"
     ]
    },
    {
     "name": "stdout",
     "output_type": "stream",
     "text": [
      "veuillez saisir la valeur de A et B\n"
     ]
    },
    {
     "name": "stdin",
     "output_type": "stream",
     "text": [
      "B =  23\n"
     ]
    },
    {
     "name": "stdout",
     "output_type": "stream",
     "text": [
      "saisie 00 pour retourner au  Menu\n"
     ]
    }
   ],
   "source": [
    "\n",
    "def operation():\n",
    "    print(\"veuillez saisir la valeur de A et B\")    \n",
    "    b=int(input(\"B = \"))\n",
    "    print(\"saisie 00 pour retourner au  Menu\")\n",
    "    a=int(input(\"A = \"))\n",
    "    while a!=00 or b!=00:\n",
    "        continue\n",
    "        if a==00 or b==00:\n",
    "            break\n",
    "    return a,b\n",
    "def Menu():\n",
    "    print(\"___________MENU_CALCULATRICE____________\")\n",
    "    print(\"1. Addition\")\n",
    "    print(\"2. Soustraction\")\n",
    "    print(\"3. Multiplication\")\n",
    "    print(\"4. Division\")\n",
    "    print(\"5. Quitter\")\n",
    "def Addition(a,b):\n",
    "    s=0\n",
    "    s=a+b\n",
    "    return(s)\n",
    "def Soustraction(a,b):\n",
    "    s=a-b\n",
    "    return(s)\n",
    "def Multiplication(a,b):\n",
    "    m=a*b\n",
    "    return(m)\n",
    "def Division(a,b):\n",
    "    if b==0:\n",
    "        return(\"impossible\")\n",
    "    else:\n",
    "        d=a/b\n",
    "        return(d)\n",
    "def main():\n",
    "    while True:\n",
    "        Menu()\n",
    "        choix=input(\"Quelle option voullez vous?: \")\n",
    "        if choix==\"1\":\n",
    "            while True:\n",
    "                a,b=operation()\n",
    "                s=Addition(a,b)\n",
    "                print(\"A + B = \",s)\n",
    "                print(\"saisie 00 pour retourner au  Menu\")\n",
    "                if  a==00 or b==00:\n",
    "                    break\n",
    "                else:\n",
    "                    continue\n",
    "        elif choix==\"2\":\n",
    "            while True:\n",
    "                a,b=operation()\n",
    "                s=Soustraction(a,b)\n",
    "                print(\"A - B = \",s)\n",
    "                print(\"saisie 00 pour retourner au  Menu\")\n",
    "                if a==00 or b==00:\n",
    "                    break\n",
    "                else:\n",
    "                    continue\n",
    "        elif choix==\"3\":\n",
    "            while True:\n",
    "                a,b=operation()\n",
    "                print(\"veuillez saisir la valeur de A et B\")    \n",
    "                m= Multiplication(a,b)\n",
    "                print(\"A * B = \",m)\n",
    "                print(\"saisie 00 pour retourner au  Menu\")\n",
    "                if  a==00 or b==00:\n",
    "                    break\n",
    "                else:\n",
    "                    continue\n",
    "        elif choix==\"4\":\n",
    "            while True:\n",
    "                a,b=operation()\n",
    "                d= Division(a,b)\n",
    "                print(\"A / B = \",d)\n",
    "                print(\"saisie 00 pour retourner au  Menu\")\n",
    "                if  a==00 :\n",
    "                    break\n",
    "                else:\n",
    "                    continue\n",
    "        elif choix==\"5\":\n",
    "            print(\"Merci d'avoir utiliser ce programme\")\n",
    "            break\n",
    "        else:\n",
    "            print(\"Option invalide\")\n",
    "main()            \n",
    "        \n",
    "    \n",
    "    \n",
    "    \n",
    "    \n",
    "    "
   ]
  },
  {
   "cell_type": "code",
   "execution_count": null,
   "id": "e059eb52-ab83-4be3-8dc5-8f1828854c2c",
   "metadata": {},
   "outputs": [],
   "source": [
    "\n",
    "    "
   ]
  }
 ],
 "metadata": {
  "kernelspec": {
   "display_name": "Python [conda env:base] *",
   "language": "python",
   "name": "conda-base-py"
  },
  "language_info": {
   "codemirror_mode": {
    "name": "ipython",
    "version": 3
   },
   "file_extension": ".py",
   "mimetype": "text/x-python",
   "name": "python",
   "nbconvert_exporter": "python",
   "pygments_lexer": "ipython3",
   "version": "3.12.7"
  }
 },
 "nbformat": 4,
 "nbformat_minor": 5
}
