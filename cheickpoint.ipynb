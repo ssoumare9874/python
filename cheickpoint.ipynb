{
 "cells": [
  {
   "cell_type": "markdown",
   "id": "3c4a7721-cdf9-414a-a3b9-233714237846",
   "metadata": {},
   "source": [
    "Question 1"
   ]
  },
  {
   "cell_type": "code",
   "execution_count": 2,
   "id": "e89dfbb6-b1fc-4980-9371-b7c91e3bfa1b",
   "metadata": {},
   "outputs": [
    {
     "name": "stdout",
     "output_type": "stream",
     "text": [
      "Résultat = 36\n"
     ]
    }
   ],
   "source": [
    "# Liste échantillon\n",
    "sample_list = [2, 3, 6]\n",
    "\n",
    "# Initialiser le résultat à 1 (car la multiplication par 1 ne change pas les résultats)\n",
    "result = 1\n",
    "\n",
    "# Boucle pour multiplier chaque élément\n",
    "for num in sample_list:\n",
    "    result *= num\n",
    "\n",
    "print(\"Résultat =\", result)\n"
   ]
  },
  {
   "cell_type": "markdown",
   "id": "28ed9b67-7b07-4664-adf2-29b66381945e",
   "metadata": {},
   "source": [
    "Question 2"
   ]
  },
  {
   "cell_type": "code",
   "execution_count": 4,
   "id": "f7f0c7b0-76e0-4d6c-9e9e-69f1471926ba",
   "metadata": {},
   "outputs": [
    {
     "name": "stdout",
     "output_type": "stream",
     "text": [
      "Résultat attendu = [(2, 1), (1, 2), (2, 3), (4, 4), (2, 5)]\n"
     ]
    }
   ],
   "source": [
    "# Liste échantillon\n",
    "sample_list = [(2, 5), (1, 2), (4, 4), (2, 3), (2, 1)]\n",
    "\n",
    "# Trier la liste de tuples en fonction du dernier élément de chaque tuple\n",
    "sorted_list = sorted(sample_list, key=lambda x: x[-1])\n",
    "\n",
    "print(\"Résultat attendu =\", sorted_list)\n"
   ]
  },
  {
   "cell_type": "markdown",
   "id": "937d6f3c-ecbd-47c5-9fad-e6668c39534c",
   "metadata": {},
   "source": [
    "Question 3"
   ]
  },
  {
   "cell_type": "code",
   "execution_count": 6,
   "id": "e7086942-e26b-4fe1-96c8-710771d6dc2d",
   "metadata": {},
   "outputs": [
    {
     "name": "stdout",
     "output_type": "stream",
     "text": [
      "Résultat attendu = {'a': 400, 'b': 400, 'c': 300, 'd': 400}\n"
     ]
    }
   ],
   "source": [
    "# Dictionnaires\n",
    "d1 = {'a': 100, 'b': 200, 'c': 300}\n",
    "d2 = {'a': 300, 'b': 200, 'd': 400}\n",
    "\n",
    "# Combiner les dictionnaires en ajoutant les valeurs pour les clés communes\n",
    "combined_dict = d1.copy()  # Crée une copie de d1 pour ne pas modifier d1 directement\n",
    "\n",
    "for key, value in d2.items():\n",
    "    if key in combined_dict:\n",
    "        combined_dict[key] += value\n",
    "    else:\n",
    "        combined_dict[key] = value\n",
    "\n",
    "print(\"Résultat attendu =\", combined_dict)\n"
   ]
  },
  {
   "cell_type": "markdown",
   "id": "f0fe533b-ded5-4064-bb11-42856d5755c7",
   "metadata": {},
   "source": [
    "Questions 4"
   ]
  },
  {
   "cell_type": "code",
   "execution_count": 8,
   "id": "48697881-e7ac-48b1-805c-22b1d8fcb18c",
   "metadata": {},
   "outputs": [
    {
     "name": "stdout",
     "output_type": "stream",
     "text": [
      "Résultat attendu = {1: 1, 2: 4, 3: 9, 4: 16, 5: 25, 6: 36, 7: 49, 8: 64}\n"
     ]
    }
   ],
   "source": [
    "# Nombre entier n\n",
    "n = 8\n",
    "\n",
    "# Générer le dictionnaire\n",
    "squared_dict = {i: i * i for i in range(1, n + 1)}\n",
    "\n",
    "print(\"Résultat attendu =\", squared_dict)\n"
   ]
  },
  {
   "cell_type": "markdown",
   "id": "45b80a2e-b3c1-4ee1-b1c0-1f1516cde216",
   "metadata": {},
   "source": [
    "Question 5"
   ]
  },
  {
   "cell_type": "code",
   "execution_count": 14,
   "id": "f66a3c76-79e4-4cea-9102-a63718095991",
   "metadata": {},
   "outputs": [
    {
     "name": "stdout",
     "output_type": "stream",
     "text": [
      "Résultat attendu = [('élément3', '24.5'), ('élément2', '15.10'), ('élément1', '12.20')]\n"
     ]
    }
   ],
   "source": [
    "# Liste d'exemples\n",
    "sample_list = [('élément1', '12.20'), ('élément2', '15.10'), ('élément3', '24.5')]\n",
    "\n",
    "# Trier la liste de tuples par le deuxième élément (flottant)\n",
    "sorted_list = sorted(sample_list, key=lambda x: float(x[1]), reverse=True)\n",
    "\n",
    "print(\"Résultat attendu =\", sorted_list)\n"
   ]
  },
  {
   "cell_type": "markdown",
   "id": "136fa178-05fa-43dc-b236-e0ea79cfc445",
   "metadata": {},
   "source": [
    "Question 6"
   ]
  },
  {
   "cell_type": "code",
   "execution_count": 17,
   "id": "126a9464-3ec1-4f2f-a894-5a14dd3ecd74",
   "metadata": {},
   "outputs": [
    {
     "name": "stdout",
     "output_type": "stream",
     "text": [
      "Résultat attendu = [('élément3', '24.5'), ('élément2', '15.10'), ('élément1', '12.20')]\n"
     ]
    }
   ],
   "source": [
    "# Liste d'exemples\n",
    "sample_list = [('élément1', '12.20'), ('élément2', '15.10'), ('élément3', '24.5')]\n",
    "\n",
    "# Trier la liste de tuples par le deuxième élément (flottant)\n",
    "sorted_list = sorted(sample_list, key=lambda x: float(x[1]), reverse=True)\n",
    "\n",
    "print(\"Résultat attendu =\", sorted_list)\n"
   ]
  },
  {
   "cell_type": "code",
   "execution_count": null,
   "id": "89ee0fa1-3112-4cea-9abc-eb04b51f7375",
   "metadata": {},
   "outputs": [],
   "source": []
  },
  {
   "cell_type": "code",
   "execution_count": null,
   "id": "9e4924ab-625c-4fdd-848e-6b03838b144c",
   "metadata": {},
   "outputs": [],
   "source": []
  }
 ],
 "metadata": {
  "kernelspec": {
   "display_name": "Python [conda env:base] *",
   "language": "python",
   "name": "conda-base-py"
  },
  "language_info": {
   "codemirror_mode": {
    "name": "ipython",
    "version": 3
   },
   "file_extension": ".py",
   "mimetype": "text/x-python",
   "name": "python",
   "nbconvert_exporter": "python",
   "pygments_lexer": "ipython3",
   "version": "3.12.7"
  }
 },
 "nbformat": 4,
 "nbformat_minor": 5
}
