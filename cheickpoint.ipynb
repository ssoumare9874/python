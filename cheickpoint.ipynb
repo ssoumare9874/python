{
 "cells": [
  {
   "cell_type": "code",
   "execution_count": null,
   "id": "cc9a3aaa-2228-4a6b-9027-ce9aafa255cb",
   "metadata": {},
   "outputs": [],
   "source": []
  },
  {
   "cell_type": "code",
   "execution_count": 37,
   "id": "b72b3979-389e-476a-8714-519e49e3dc8d",
   "metadata": {},
   "outputs": [
    {
     "name": "stdout",
     "output_type": "stream",
     "text": [
      "Face\n"
     ]
    }
   ],
   "source": [
    "import random\n",
    "tirage=random.randint(0,1)\n",
    "if tirage==0:\n",
    "    print(\"Face\")\n",
    "else:\n",
    "    print(\"Pile\")"
   ]
  },
  {
   "cell_type": "code",
   "execution_count": 27,
   "id": "736e5c96-13ee-49cb-a0e2-8ed9976ec0e6",
   "metadata": {},
   "outputs": [
    {
     "name": "stdin",
     "output_type": "stream",
     "text": [
      "veuillez saisir un nombre 28\n"
     ]
    }
   ],
   "source": [
    "a=int(input(\"veuillez saisir un nombre\"))\n",
    "if a%3==0:\n",
    "    resultat+=\"plang\"\n"
   ]
  },
  {
   "cell_type": "code",
   "execution_count": null,
   "id": "a7bfe575-df86-40ad-adda-3efb095a7d00",
   "metadata": {},
   "outputs": [],
   "source": []
  }
 ],
 "metadata": {
  "kernelspec": {
   "display_name": "Python [conda env:base] *",
   "language": "python",
   "name": "conda-base-py"
  },
  "language_info": {
   "codemirror_mode": {
    "name": "ipython",
    "version": 3
   },
   "file_extension": ".py",
   "mimetype": "text/x-python",
   "name": "python",
   "nbconvert_exporter": "python",
   "pygments_lexer": "ipython3",
   "version": "3.12.7"
  }
 },
 "nbformat": 4,
 "nbformat_minor": 5
}
