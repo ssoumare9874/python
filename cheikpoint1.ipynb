{
 "cells": [
  {
   "cell_type": "raw",
   "id": "a0d8fee1-ee40-4f44-8ce0-d21fcce574d1",
   "metadata": {},
   "source": [
    "Créer un programme qui calcule les notes des étudiants en utilisant des tableaux NumPy.\n",
    "\n",
    " \n",
    "\n",
    "Description :\n",
    "\n",
    " \n",
    "\n",
    "Dans cet exercice, vous allez créer un programme qui calcule les notes des étudiants en utilisant des tableaux NumPy. Le programme demandera à l'utilisateur de saisir le nombre d'étudiants, le nombre de matières et les notes de chaque étudiant dans chaque matière. Il calculera ensuite les notes totales, le pourcentage et la mention pour chaque étudiant en utilisant des tableaux NumPy. Le programme affichera les résultats pour chaque étudiant dans un format tabulaire.\n",
    "\n",
    "\n",
    "Instructions\n",
    "\n",
    " \n",
    "\n",
    "Instructions :\n",
    "\n",
    "Importez la bibliothèque NumPy.\n",
    "Demandez à l'utilisateur de saisir le nombre d'étudiants et le nombre de matières.\n",
    "Créez un tableau NumPy pour stocker les notes de chaque étudiant dans chaque matière. Le tableau doit avoir la forme (nombre d'étudiants, nombre de matières).\n",
    "Demandez à l'utilisateur de saisir les notes de chaque étudiant dans chaque matière.\n",
    "Calculez les notes totales pour chaque étudiant en utilisant la fonction sum() de NumPy.\n",
    "Calculez le pourcentage pour chaque étudiant en utilisant les notes totales et la formule : pourcentage = (notes totales / (nombre de matières * 100)) * 100\n",
    "Calculez la mention pour chaque étudiant en utilisant le pourcentage et le système de notation suivant :\n",
    "90 % ou plus : A+\n",
    "80 % ou plus : A\n",
    "70 % ou plus : B+\n",
    "60 % ou plus : B\n",
    "50 % ou plus : C\n",
    "En dessous de 50 % : F\n",
    "Affichez les résultats pour chaque étudiant dans un format tabulaire avec des colonnes pour le nom de l'étudiant, les notes totales, le pourcentage et la mention.\n",
    " \n",
    "\n",
    " "
   ]
  },
  {
   "cell_type": "code",
   "execution_count": null,
   "id": "c25c281f-e483-4326-95eb-0f6a0a85222f",
   "metadata": {},
   "outputs": [],
   "source": [
    "import numpy as np\n",
    "\n",
    "def main():\n",
    "    print(\"\\nProgramme de calcul des notes des étudiants\")\n",
    "\n",
    "    Saisir le nombre d'étudiants et de matières\n",
    "    nombre_etudiants = int(input(\"Entrez le nombre d'étudiants : \"))\n",
    "    nombre_matieres = int(input(\"Entrez le nombre de matières : \"))\n",
    "\n",
    "    Créer un tableau NumPy pour stocker les notes\n",
    "    notes = np.zeros((nombre_etudiants, nombre_matieres))\n",
    "main()"
   ]
  }
 ],
 "metadata": {
  "kernelspec": {
   "display_name": "Python [conda env:base] *",
   "language": "python",
   "name": "conda-base-py"
  },
  "language_info": {
   "codemirror_mode": {
    "name": "ipython",
    "version": 3
   },
   "file_extension": ".py",
   "mimetype": "text/x-python",
   "name": "python",
   "nbconvert_exporter": "python",
   "pygments_lexer": "ipython3",
   "version": "3.12.7"
  }
 },
 "nbformat": 4,
 "nbformat_minor": 5
}
