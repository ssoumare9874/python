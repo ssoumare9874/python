{
 "cells": [
  {
   "cell_type": "code",
   "execution_count": 10,
   "id": "c67b83b4-8fad-4728-8499-177efe002448",
   "metadata": {},
   "outputs": [
    {
     "ename": "AttributeError",
     "evalue": "'str' object has no attribute 'txt'",
     "output_type": "error",
     "traceback": [
      "\u001b[1;31m---------------------------------------------------------------------------\u001b[0m",
      "\u001b[1;31mAttributeError\u001b[0m                            Traceback (most recent call last)",
      "Cell \u001b[1;32mIn[10], line 26\u001b[0m\n\u001b[0;32m     23\u001b[0m \u001b[38;5;66;03m# Exemple d'utilisation :\u001b[39;00m\n\u001b[0;32m     24\u001b[0m test \u001b[38;5;241m=\u001b[39m \u001b[38;5;124m'\u001b[39m\u001b[38;5;124mtest.txt\u001b[39m\u001b[38;5;124m'\u001b[39m  \u001b[38;5;66;03m# Remplacez par le nom réel du fichier\u001b[39;00m\n\u001b[1;32m---> 26\u001b[0m \u001b[38;5;28mprint\u001b[39m(\u001b[38;5;124m\"\u001b[39m\u001b[38;5;124mContenu entier du fichier :\u001b[39m\u001b[38;5;130;01m\\n\u001b[39;00m\u001b[38;5;124m\"\u001b[39m, lire_fichier_entier(test))\n\u001b[0;32m     27\u001b[0m \u001b[38;5;28mprint\u001b[39m(\u001b[38;5;124m\"\u001b[39m\u001b[38;5;130;01m\\n\u001b[39;00m\u001b[38;5;124mPremières 3 lignes :\u001b[39m\u001b[38;5;130;01m\\n\u001b[39;00m\u001b[38;5;124m\"\u001b[39m, lire_premieres_lignes(test, \u001b[38;5;241m3\u001b[39m))\n\u001b[0;32m     28\u001b[0m \u001b[38;5;28mprint\u001b[39m(\u001b[38;5;124m\"\u001b[39m\u001b[38;5;130;01m\\n\u001b[39;00m\u001b[38;5;124mDernières 3 lignes :\u001b[39m\u001b[38;5;130;01m\\n\u001b[39;00m\u001b[38;5;124m\"\u001b[39m, lire_dernieres_lignes(test, \u001b[38;5;241m3\u001b[39m))\n",
      "Cell \u001b[1;32mIn[10], line 3\u001b[0m, in \u001b[0;36mlire_fichier_entier\u001b[1;34m(test)\u001b[0m\n\u001b[0;32m      2\u001b[0m \u001b[38;5;28;01mdef\u001b[39;00m \u001b[38;5;21mlire_fichier_entier\u001b[39m(test):\n\u001b[1;32m----> 3\u001b[0m     \u001b[38;5;28;01mwith\u001b[39;00m \u001b[38;5;28mopen\u001b[39m(test\u001b[38;5;241m.\u001b[39mtxt, \u001b[38;5;124m'\u001b[39m\u001b[38;5;124mr\u001b[39m\u001b[38;5;124m'\u001b[39m, encoding\u001b[38;5;241m=\u001b[39m\u001b[38;5;124m'\u001b[39m\u001b[38;5;124mutf-8\u001b[39m\u001b[38;5;124m'\u001b[39m) \u001b[38;5;28;01mas\u001b[39;00m test:\n\u001b[0;32m      4\u001b[0m         \u001b[38;5;28;01mreturn\u001b[39;00m test\u001b[38;5;241m.\u001b[39mtxt\u001b[38;5;241m.\u001b[39mread()\n",
      "\u001b[1;31mAttributeError\u001b[0m: 'str' object has no attribute 'txt'"
     ]
    }
   ],
   "source": [
    "# Lire un fichier texte entier\n",
    "def lire_fichier_entier(test):\n",
    "    with open(test.txt, 'r', encoding='utf-8') as test:\n",
    "        return test.txt.read()\n",
    "\n",
    "# Lire les n premières lignes d’un fichier\n",
    "def lire_premieres_lignes(test, n):\n",
    "    with open(test.txt, 'r', encoding='utf-8') as test:\n",
    "        return ''.join(fichier.readlines()[:n])\n",
    "\n",
    "# Lire les n dernières lignes d’un fichier\n",
    "def lire_dernieres_lignes(test, n):\n",
    "    with open(test.txt, 'r', encoding='utf-8') as test:\n",
    "        return ''.join(test.readlines()[-n:])\n",
    "\n",
    "# Compter le nombre de mots dans un fichier texte\n",
    "def compter_mots(test):\n",
    "    with open(nom_fichier, 'r', encoding='utf-8') as test:\n",
    "        texte = test.read()\n",
    "        mots = texte.split()\n",
    "        return len(mots)\n",
    "\n",
    "# Exemple d'utilisation :\n",
    "test = 'test.txt'  # Remplacez par le nom réel du fichier\n",
    "\n",
    "print(\"Contenu entier du fichier :\\n\", lire_fichier_entier(test))\n",
    "print(\"\\nPremières 3 lignes :\\n\", lire_premieres_lignes(test, 3))\n",
    "print(\"\\nDernières 3 lignes :\\n\", lire_dernieres_lignes(test, 3))\n",
    "print(\"\\nNombre total de mots :\", compter_mots(test))\n"
   ]
  },
  {
   "cell_type": "code",
   "execution_count": null,
   "id": "9c12f154-bf29-441f-a827-a2ab10fc060e",
   "metadata": {},
   "outputs": [],
   "source": []
  }
 ],
 "metadata": {
  "kernelspec": {
   "display_name": "Python 3 (ipykernel)",
   "language": "python",
   "name": "python3"
  },
  "language_info": {
   "codemirror_mode": {
    "name": "ipython",
    "version": 3
   },
   "file_extension": ".py",
   "mimetype": "text/x-python",
   "name": "python",
   "nbconvert_exporter": "python",
   "pygments_lexer": "ipython3",
   "version": "3.12.7"
  }
 },
 "nbformat": 4,
 "nbformat_minor": 5
}
