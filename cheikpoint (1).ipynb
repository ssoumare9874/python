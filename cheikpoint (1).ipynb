{
 "cells": [
  {
   "cell_type": "markdown",
   "id": "f4ec56b2-2ef0-40de-99a3-267ec588afa0",
   "metadata": {},
   "source": [
    "Exercice1:Écrire une classe Python nommée Point3D définie par x, y et z. Définir une méthode qui renvoie (x, y, z). Cela indique à Python de représenter cet objet au format suivant : (x, y, z). Ensuite, créez une variable nommée my_point contenant une nouvelle instance de Point3D avec x=1, y=2 et z=3 et affichez-la.\n"
   ]
  },
  {
   "cell_type": "code",
   "execution_count": 3,
   "id": "ff3ca99f-c8c7-470e-a1e5-0e30f2abb26c",
   "metadata": {},
   "outputs": [],
   "source": [
    "#solution1\n",
    "class Point3D:\n",
    "    def __init__(self,x,y,z):\n",
    "        self.x=x\n",
    "        self.y=y\n",
    "        self.z=z\n",
    "    def renvoyer(self):\n",
    "        return(f\"({self.x},{self.y},{self.y})\")"
   ]
  },
  {
   "cell_type": "code",
   "execution_count": 7,
   "id": "3fdfac9d-8841-4c78-9bf4-c3f23f151643",
   "metadata": {},
   "outputs": [
    {
     "data": {
      "text/plain": [
       "'(1,2,2)'"
      ]
     },
     "execution_count": 7,
     "metadata": {},
     "output_type": "execute_result"
    }
   ],
   "source": [
    "my_point=Point3D(1,2,3)\n",
    "my_point.renvoyer()"
   ]
  },
  {
   "cell_type": "markdown",
   "id": "e0bd702b-5015-48e9-8a28-5244d2b37994",
   "metadata": {},
   "source": [
    "exercice2:Écrire une classe Python nommée Rectangle construite à partir d’une longueur et d’une largeur. Définir deux méthodes, area et perimeter, qui calculeront respectivement l’aire et le périmètre du rectangle. Ensuite, créez une variable nommée my_rectangle contenant une nouvelle instance de Rectangle avec width=3 et length=4, et calculez à la fois l’aire et le périmètre (l’aire devrait être 3*4=12 et le périmètre 2*(3+4)=14).\n"
   ]
  },
  {
   "cell_type": "code",
   "execution_count": 1,
   "id": "eb2c9990-4233-4991-8f86-cd8f999299c3",
   "metadata": {},
   "outputs": [
    {
     "name": "stdout",
     "output_type": "stream",
     "text": [
      "Aire : 12\n",
      "Périmètre : 14\n"
     ]
    }
   ],
   "source": [
    "class Rectangle:\n",
    "    def __init__(self, width, length):\n",
    "        \"\"\"Initialise la largeur et la longueur du rectangle.\"\"\"\n",
    "        self.width = width\n",
    "        self.length = length\n",
    "\n",
    "    def area(self):\n",
    "        \"\"\"Calcule et retourne l'aire du rectangle.\"\"\"\n",
    "        return self.width * self.length\n",
    "\n",
    "    def perimeter(self):\n",
    "        \"\"\"Calcule et retourne le périmètre du rectangle.\"\"\"\n",
    "        return 2 * (self.width + self.length)\n",
    "\n",
    "# Création d'une instance de la classe Rectangl\n",
    "\n",
    "my_rectangle = Rectangle(3, 4)\n",
    "\n",
    "# Calcul et affichage de l'aire et du périmètre\n",
    "print(\"Aire :\", my_rectangle.area())  # Résultat attendu : 12\n",
    "print(\"Périmètre :\", my_rectangle.perimeter())  # Résultat attendu : 14\n"
   ]
  },
  {
   "cell_type": "raw",
   "id": "804b8dab-e004-4110-905e-f4b2b4b01406",
   "metadata": {},
   "source": [
    "Exercice3: Écrire une classe Python nommée Circle construite à partir de son centre O et de son rayon r. Définir deux méthodes, area et perimeter, qui calculeront respectivement l’aire et le périmètre du cercle, ainsi qu’une méthode isInside() qui permet de tester si un point A(x, y) appartient au cercle C(O, r) ou non.\n"
   ]
  },
  {
   "cell_type": "code",
   "execution_count": 5,
   "id": "3cd6eb74-f5e9-481d-ad23-6e7daae5bb92",
   "metadata": {},
   "outputs": [
    {
     "name": "stdout",
     "output_type": "stream",
     "text": [
      "Aire : 78.53981633974483\n",
      "Périmètre : 31.41592653589793\n",
      "Le point (3, 4) est-il dans le cercle ? True\n",
      "Le point (6, 8) est-il dans le cercle ? False\n"
     ]
    }
   ],
   "source": [
    "import math\n",
    "\n",
    "class Circle:\n",
    "    def __init__(self, center, radius):\n",
    "        \"\"\"\n",
    "        Initialise le cercle avec un centre (tuple (x, y)) et un rayon (float ou int).\n",
    "        \"\"\"\n",
    "        self.center = center\n",
    "        self.radius = radius\n",
    "\n",
    "    def area(self):\n",
    "        \"\"\"Calcule et retourne l'aire du cercle.\"\"\"\n",
    "        return math.pi * (self.radius ** 2)\n",
    "\n",
    "    def perimeter(self):\n",
    "        \"\"\"Calcule et retourne le périmètre (circonférence) du cercle.\"\"\"\n",
    "        return 2 * math.pi * self.radius\n",
    "\n",
    "    def isInside(self, x, y):\n",
    "        \"\"\"\n",
    "        Vérifie si le point (x, y) est à l'intérieur ou sur le cercle.\n",
    "        Renvoie True si le point est dans le cercle, sinon False.\n",
    "        \"\"\"\n",
    "        # Calcul de la distance entre le point (x, y) et le centre du cercle\n",
    "        distance = math.sqrt((x - self.center[0])**2 + (y - self.center[1])**2)\n",
    "        return distance <= self.radius\n",
    "\n",
    "\n",
    "# Création d'une instance de la classe Circle\n",
    "circle = Circle(center=(0, 0), radius=5)\n",
    "\n",
    "# Calcul et affichage de l'aire et du périmètre\n",
    "print(\"Aire :\", circle.area())  # Résultat attendu : ~78.54\n",
    "print(\"Périmètre :\", circle.perimeter())  # Résultat attendu : ~31.42\n",
    "\n",
    "# Vérification si des points sont à l'intérieur du cercle\n",
    "print(\"Le point (3, 4) est-il dans le cercle ?\", circle.isInside(3, 4))  # True (3² + 4² = 25)\n",
    "print(\"Le point (6, 8) est-il dans le cercle ?\", circle.isInside(6, 8))  # False (distance > 5)\n"
   ]
  },
  {
   "cell_type": "raw",
   "id": "74e15c34-64fc-43bb-9dfd-86571ea199c6",
   "metadata": {},
   "source": [
    " \n",
    "Exercice4: Supposons que nous souhaitons modéliser un compte bancaire avec un support pour les opérations de dépôt et de retrait. Créons une classe Python nommée Bank définie par son solde. Définir deux méthodes, deposit et withdraw, pour calculer le nouveau montant après chaque opération.\n"
   ]
  },
  {
   "cell_type": "code",
   "execution_count": 1,
   "id": "efc6a2e7-9bb8-4af5-866e-1c051e3229c8",
   "metadata": {},
   "outputs": [
    {
     "name": "stdout",
     "output_type": "stream",
     "text": [
      "Déposé : 50. Nouveau solde : 150\n",
      "Retiré : 30. Nouveau solde : 120\n",
      "Fonds insuffisants pour ce retrait.\n",
      "Le montant du dépôt doit être positif.\n",
      "Le montant du retrait doit être positif.\n"
     ]
    }
   ],
   "source": [
    "class Bank:\n",
    "    def __init__(self, balance=0):\n",
    "        \"\"\"\n",
    "        Initialise le compte bancaire avec un solde initial (par défaut 0).\n",
    "        \"\"\"\n",
    "        self.balance = balance\n",
    "\n",
    "    def deposit(self, amount):\n",
    "        \"\"\"\n",
    "        Ajoute un montant au solde.\n",
    "        \"\"\"\n",
    "        if amount > 0:\n",
    "            self.balance += amount\n",
    "            print(f\"Déposé : {amount}. Nouveau solde : {self.balance}\")\n",
    "        else:\n",
    "            print(\"Le montant du dépôt doit être positif.\")\n",
    "\n",
    "    def withdraw(self, amount):\n",
    "        \"\"\"\n",
    "        Retire un montant du solde si les fonds sont suffisants.\n",
    "        \"\"\"\n",
    "        if amount > 0:\n",
    "            if amount <= self.balance:\n",
    "                self.balance -= amount\n",
    "                print(f\"Retiré : {amount}. Nouveau solde : {self.balance}\")\n",
    "            else:\n",
    "                print(\"Fonds insuffisants pour ce retrait.\")\n",
    "        else:\n",
    "            print(\"Le montant du retrait doit être positif.\")\n",
    "\n",
    "# Création d'une instance de la classe Bank\n",
    "account = Bank(balance=100)  # Compte avec un solde initial de 100\n",
    "\n",
    "# Dépôt d'argent\n",
    "account.deposit(50)  # Déposé 50\n",
    "\n",
    "# Retrait d'argent\n",
    "account.withdraw(30)  # Retiré 30\n",
    "\n",
    "# Tentative de retrait d'un montant supérieur au solde\n",
    "account.withdraw(200)  # Fonds insuffisants\n",
    "\n",
    "# Tentative de dépôt ou retrait avec un montant négatif\n",
    "account.deposit(-10)  # Montant invalide\n",
    "account.withdraw(-20)  # Montant invalide\n"
   ]
  }
 ],
 "metadata": {
  "kernelspec": {
   "display_name": "Python [conda env:base] *",
   "language": "python",
   "name": "conda-base-py"
  },
  "language_info": {
   "codemirror_mode": {
    "name": "ipython",
    "version": 3
   },
   "file_extension": ".py",
   "mimetype": "text/x-python",
   "name": "python",
   "nbconvert_exporter": "python",
   "pygments_lexer": "ipython3",
   "version": "3.12.7"
  }
 },
 "nbformat": 4,
 "nbformat_minor": 5
}
